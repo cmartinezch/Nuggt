{
  "nbformat": 4,
  "nbformat_minor": 0,
  "metadata": {
    "colab": {
      "provenance": [],
      "gpuType": "T4",
      "include_colab_link": true
    },
    "kernelspec": {
      "name": "python3",
      "display_name": "Python 3"
    },
    "language_info": {
      "name": "python"
    },
    "accelerator": "GPU"
  },
  "cells": [
    {
      "cell_type": "markdown",
      "metadata": {
        "id": "view-in-github",
        "colab_type": "text"
      },
      "source": [
        "<a href=\"https://colab.research.google.com/github/cmartinezch/Nuggt/blob/main/SDXL_1_0_comfyui.ipynb\" target=\"_parent\"><img src=\"https://colab.research.google.com/assets/colab-badge.svg\" alt=\"Open In Colab\"/></a>"
      ]
    },
    {
      "cell_type": "markdown",
      "source": [
        "# **SDXL 1.0 ComfyUI by**\n",
        "# 🕷 **_Spidey Ai Art Tutorials_** 🕷\n",
        "\n",
        "\n",
        "\n",
        "![youtube.png](data:image/png;base64,iVBORw0KGgoAAAANSUhEUgAAABAAAAAQCAMAAAAoLQ9TAAAAJ1BMVEVHcEz/AAD/AAD/AAD/AAD/AAD/AAD/AAD/AAD/////mJj/wcH/jY3aUCqcAAAACHRSTlMA8czbELSvDrGIfzkAAABCSURBVBiVY2AgA7CwMTMycgABIyMzGztQgIkDCTABBThQAEyAixtNgIeTkwu/AIYWZEMxrGVhZWaE8BiZWVnI8RoAJWEEDt2WmW4AAAAASUVORK5CYII=) **[YouTube](https://youtube.com/@spidey-ai)** 🕸\n",
        "\n",
        "\n",
        "_You don't need additional Google Drive storage because uploaded models are not stored on your Google Drive. After the session ends, all data will be deleted. You can either download ControlNet models on your own or let me know if you want me to make it for you._"
      ],
      "metadata": {
        "id": "50LSP7aK1pkg"
      }
    },
    {
      "cell_type": "code",
      "execution_count": null,
      "metadata": {
        "id": "gSrpK8sN05ED",
        "cellView": "form"
      },
      "outputs": [],
      "source": [
        "#@markdown # **👈🏻 Run This Cell For Comfyui Setup**\n",
        "#@markdown\n",
        "#@markdown\n",
        "#@markdown ##🚫Please Do Not Mess With Code, if you do it will give an error🚫\n",
        "!curl -Lo spideymemfix.zip https://huggingface.co/imspidey/NoteBook/resolve/main/spideymemfix.zip\n",
        "!unzip /content/spideymemfix.zip\n",
        "!apt -y update -qq\n",
        "%env LD_PRELOAD=/content/libtcmalloc_minimal.so.4\n",
        "\n",
        "from IPython.display import clear_output\n",
        "from pathlib import Path\n",
        "!git clone https://github.com/imner0/SpideyCmfyUI\n",
        "%cd /content/SpideyCmfyUI\n",
        "\n",
        "!echo -= Install dependencies =-\n",
        "!pip install xformers!=0.0.18 -r requirements.txt --extra-index-url https://download.pytorch.org/whl/cu118 --extra-index-url https://download.pytorch.org/whl/cu117\n",
        "\n",
        "#Models\n",
        "!curl -Lo /content/SpideyCmfyUI/models/checkpoints/sd_xl_base_1.0.safetensors https://huggingface.co/stabilityai/stable-diffusion-xl-base-1.0/resolve/main/sd_xl_base_1.0_0.9vae.safetensors\n",
        "!curl -Lo /content/SpideyCmfyUI/models/checkpoints/sd_xl_refiner_1.0.safetensors https://huggingface.co/stabilityai/stable-diffusion-xl-refiner-1.0/resolve/main/sd_xl_refiner_1.0_0.9vae.safetensors\n",
        "!curl -Lo /content/SpideyCmfyUI/models/vae/sdxl_vae.safetensors https://huggingface.co/stabilityai/stable-diffusion-xl-refiner-1.0/resolve/main/vae_1_0/diffusion_pytorch_model.safetensors\n",
        "\n",
        "# ControlNet\n",
        "# Remove '#' from the beginning of the line(s) below to download the selected ControlNet model(s)\n",
        "!curl -Lo /content/SpideyCmfyUI/models/controlnet/control-lora-canny-rank256.safetensors https://huggingface.co/stabilityai/control-lora/resolve/main/control-LoRAs-rank256/control-lora-canny-rank256.safetensors\n",
        "!curl -Lo /content/SpideyCmfyUI/models/controlnet/control-lora-depth-rank256.safetensors https://huggingface.co/stabilityai/control-lora/resolve/main/control-LoRAs-rank256/control-lora-depth-rank256.safetensors\n",
        "!curl -Lo /content/SpideyCmfyUI/models/controlnet/control-lora-recolor-rank256.safetensors https://huggingface.co/stabilityai/control-lora/resolve/main/control-LoRAs-rank256/control-lora-recolor-rank256.safetensors\n",
        "!curl -Lo /content/SpideyCmfyUI/models/controlnet/control-lora-sketch-rank256.safetensors https://huggingface.co/stabilityai/control-lora/resolve/main/control-LoRAs-rank256/control-lora-sketch-rank256.safetensors\n",
        "#!curl -Lo /content/SpideyCmfyUI/models/controlnet/\n",
        "\n",
        "\n",
        "#Lora\n",
        "!curl -Lo /content/SpideyCmfyUI/models/loras/sd_xl_offset_example-lora_1.0.safetensors https://huggingface.co/stabilityai/stable-diffusion-xl-base-1.0/resolve/main/sd_xl_offset_example-lora_1.0.safetensors\n",
        "!curl -Lo /content/SpideyCmfyUI/models/loras/add-detail-xl.safetensors https://huggingface.co/imspidey/lAddDetailTweakerXL/resolve/main/add-detail-xl.safetensors\n",
        "\n",
        "#!curl -Lo /content/SpideyCmfyUI/models/loras/\n",
        "\n",
        "!curl -Lo /content/SpideyCmfyUI/models/upscale_models/upscalers.zip https://huggingface.co/imspidey/colab/resolve/main/upscalers.zip\n",
        "%cd /content/SpideyCmfyUI/models/upscale_models/\n",
        "\n",
        "!unzip /content/SpideyCmfyUI/models/upscale_models/upscalers.zip\n",
        "!rm upscalers.zip\n",
        "# ESRGAN upscale model\n",
        "!wget https://github.com/xinntao/Real-ESRGAN/releases/download/v0.1.0/RealESRGAN_x4plus.pth\n",
        "!wget https://huggingface.co/sberbank-ai/Real-ESRGAN/resolve/main/RealESRGAN_x2.pth\n",
        "!wget https://huggingface.co/sberbank-ai/Real-ESRGAN/resolve/main/RealESRGAN_x4.pth\n",
        "!wget https://huggingface.co/imspidey/upscale/resolve/main/4x_NMKD-Superscale-SP_178000_G.pth\n",
        "\n",
        "%cd /content/SpideyCmfyUI/\n",
        "%cd /content/SpideyCmfyUI/custom_nodes\n",
        "!git clone https://github.com/ltdrdata/ComfyUI-Manager.git\n",
        "!git clone https://github.com/ltdrdata/ComfyUI-Workflow-Component.git\n",
        "!git clone https://github.com/ltdrdata/ComfyUI-Impact-Pack.git\n",
        "!git clone https://github.com/WASasquatch/was-node-suite-comfyui /content/SpideyCmfyUI/custom_nodes/was-node-suite-comfyui\n",
        "!pip install -r /content/SpideyCmfyUI/custom_nodes/was-node-suite-comfyui/requirements.txt\n",
        "!git clone https://github.com/ailex000/ComfyUI-Extensions\n",
        "!git clone https://github.com/wallish77/wlsh_nodes\n",
        "!git clone https://github.com/bash-j/mikey_nodes\n",
        "!git clone https://github.com/TinyTerra/ComfyUI_tinyterraNodes.git\n",
        "!git clone https://github.com/Chaoses-Ib/ComfyUI_Ib_CustomNodes\n",
        "!git clone https://github.com/ailex000/ComfyUI-Extensions\n",
        "!git clone https://github.com/Beinsezii/bsz-cui-extras\n",
        "!git clone https://github.com/Derfuu/Derfuu_ComfyUI_ModdedNodes\n",
        "!git clone https://github.com/evanspearman/ComfyMath\n",
        "!pip install -r /content/SpideyCmfyUI/custom_nodes/ComfyMath/requirements.txt\n",
        "!git clone https://github.com/BlenderNeko/ComfyUI_TiledKSampler\n",
        "!git clone https://github.com/BlenderNeko/ComfyUI_SeeCoder\n",
        "!git clone https://github.com/SeargeDP/SeargeSDXL\n",
        "!git clone https://github.com/ssitu/ComfyUI_UltimateSDUpscale --recursive\n",
        "!git clone https://github.com/pythongosssss/ComfyUI-Custom-Scripts.git\n",
        "!git clone https://github.com/LucianoCirino/efficiency-nodes-comfyui\n",
        "!git clone https://github.com/omar92/ComfyUI-QualityOfLifeSuit_Omar92\n",
        "!git clone https://github.com/ltdrdata/ComfyUI-Impact-Pack.git\n",
        "%cd /content/SpideyCmfyUI/custom_nodes/ComfyUI-Impact-Pack\n",
        "!git submodule update --init --recursive\n",
        "!python install.py\n",
        "#%cd /content/SpideyCmfyUI/custom_nodes/\n",
        "#!git clone https://github.com/Fannovel16/comfyui_controlnet_aux\n",
        "#%cd /content/SpideyCmfyUI/custom_nodes/comfyui_controlnet_aux\n",
        "#!pip install -r requirements.txt\n",
        "%cd /content/SpideyCmfyUI/\n",
        "\n",
        "!npm install -g localtunnel\n",
        "\n",
        "import subprocess\n",
        "import threading\n",
        "import time\n",
        "import socket\n",
        "import urllib.request\n",
        "\n",
        "def iframe_thread(port):\n",
        "  while True:\n",
        "      time.sleep(0.5)\n",
        "      sock = socket.socket(socket.AF_INET, socket.SOCK_STREAM)\n",
        "      result = sock.connect_ex(('127.0.0.1', port))\n",
        "      if result == 0:\n",
        "        break\n",
        "      sock.close()\n",
        "  print(\"\\nComfyUI finished loading, trying to launch localtunnel (if it gets stuck here localtunnel is having issues)\\n\")\n",
        "\n",
        "  print(\"The password/enpoint ip for localtunnel is:\", urllib.request.urlopen('https://ipv4.icanhazip.com').read().decode('utf8').strip(\"\\n\"))\n",
        "  p = subprocess.Popen([\"lt\", \"--port\", \"{}\".format(port)], stdout=subprocess.PIPE)\n",
        "  for line in p.stdout:\n",
        "    print(line.decode(), end='')\n",
        "\n",
        "\n",
        "threading.Thread(target=iframe_thread, daemon=True, args=(8188,)).start()\n",
        "\n",
        "!python main.py --dont-print-server --highvram"
      ]
    },
    {
      "cell_type": "markdown",
      "source": [
        "#***USE THIS CELL IF GET DISCONNECTED*** ⬇"
      ],
      "metadata": {
        "id": "F-0EAhGmQOtO"
      }
    },
    {
      "cell_type": "code",
      "source": [
        "#@markdown ## ⬅ **if server is stuck or not working run this cell for New Server**\n",
        "#@markdown **it will not download again Models**\n",
        "!npm install -g localtunnel\n",
        "\n",
        "import subprocess\n",
        "import threading\n",
        "import time\n",
        "import socket\n",
        "import urllib.request\n",
        "\n",
        "def iframe_thread(port):\n",
        "  while True:\n",
        "      time.sleep(0.5)\n",
        "      sock = socket.socket(socket.AF_INET, socket.SOCK_STREAM)\n",
        "      result = sock.connect_ex(('127.0.0.1', port))\n",
        "      if result == 0:\n",
        "        break\n",
        "      sock.close()\n",
        "  print(\"\\nComfyUI finished loading, trying to launch localtunnel (if it gets stuck here localtunnel is having issues)\\n\")\n",
        "\n",
        "  print(\"The password/enpoint ip for localtunnel is:\", urllib.request.urlopen('https://ipv4.icanhazip.com').read().decode('utf8').strip(\"\\n\"))\n",
        "  p = subprocess.Popen([\"lt\", \"--port\", \"{}\".format(port)], stdout=subprocess.PIPE)\n",
        "  for line in p.stdout:\n",
        "    print(line.decode(), end='')\n",
        "\n",
        "\n",
        "threading.Thread(target=iframe_thread, daemon=True, args=(8188,)).start()\n",
        "\n",
        "!python main.py --dont-print-server --highvram"
      ],
      "metadata": {
        "cellView": "form",
        "id": "lvQRkw5IMEGh"
      },
      "execution_count": null,
      "outputs": []
    }
  ]
}